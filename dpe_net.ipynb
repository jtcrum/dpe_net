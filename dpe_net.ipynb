{
 "cells": [
  {
   "cell_type": "markdown",
   "metadata": {},
   "source": [
    "# Predicting zeolite deprotonation energies via neural networks\n",
    "This notebook gives examples on how to use the size of the rings associated with oxygen sites, tetrahedral sites, and entire zeolite frameworks to predict the deprotonation energy (DPE) of each proton location in these  frameworks.\\\n",
    "Ring data was found using Zeolite Simulation Environment (zse), github.com/jtcrum/zse \\\n",
    "The DPE data comes from A. Jones and E. Iglesia, ACS Catal. 2015, 5, 5741−5755"
   ]
  },
  {
   "cell_type": "code",
   "execution_count": 1,
   "metadata": {},
   "outputs": [],
   "source": [
    "import numpy as np\n",
    "import torch\n",
    "from torch.autograd import Variable\n",
    "import torch.nn.functional as F\n",
    "import torch.utils.data as Data\n",
    "import matplotlib.pyplot as plt\n",
    "%matplotlib inline"
   ]
  },
  {
   "cell_type": "markdown",
   "metadata": {},
   "source": [
    "# Reproducibility Information\n",
    "Ring data was found using ZSE commit: 5a52d2\\\n",
    "Function to get O rings: zse.rings.get_orings_new()\\\n",
    "Function to get T-site rings: zse.rings.get_trings()\\\n",
    "Function to get framework rings: zse.rings.get_unique_rings()"
   ]
  },
  {
   "cell_type": "markdown",
   "metadata": {},
   "source": [
    "# Test Full Data Set"
   ]
  },
  {
   "cell_type": "code",
   "execution_count": 2,
   "metadata": {},
   "outputs": [],
   "source": [
    "# read x data (ring feature list)\n",
    "\n",
    "x_data = np.loadtxt('full_data/x_values.csv', delimiter = ',', dtype = float)\n",
    "\n",
    "# read y data (deprotonation energies)\n",
    "\n",
    "y_data = np.loadtxt('full_data/y_values.csv',delimiter = ',', dtype = float, ndmin = 2)"
   ]
  },
  {
   "cell_type": "code",
   "execution_count": 3,
   "metadata": {},
   "outputs": [],
   "source": [
    "# convert data to torch tensors\n",
    "\n",
    "x_data = torch.tensor(x_data)\n",
    "x_data = Variable(x_data)\n",
    "\n",
    "y_data = torch.tensor(y_data)\n",
    "y_data = Variable(y_data)\n"
   ]
  },
  {
   "cell_type": "code",
   "execution_count": 4,
   "metadata": {},
   "outputs": [],
   "source": [
    "# Set network seed for reproducability\n",
    "\n",
    "torch.manual_seed(1);\n",
    "\n",
    "# Define the network class\n",
    "\n",
    "class Net(torch.nn.Module):\n",
    "    def __init__(self, n_feature, n_hidden, n_output):\n",
    "        super(Net, self).__init__()\n",
    "        self.hidden = torch.nn.Linear(n_feature, n_hidden)\n",
    "        self.predict = torch.nn.Linear(n_hidden, n_output)\n",
    "        \n",
    "    def forward(self,x):\n",
    "        x = F.softsign(self.hidden(x))\n",
    "        x = self.predict(x)\n",
    "        return x\n",
    "    \n",
    "# Define our network\n",
    "\n",
    "net = Net(n_feature = len(x_data[0]), n_hidden = 60, n_output=1)\n",
    "\n",
    "# Define our optimizer\n",
    "\n",
    "optimizer = torch.optim.Rprop(net.parameters(), lr = .0002)\n",
    "\n",
    "# Define our loss function (mean squared error)\n",
    "loss_func = torch.nn.MSELoss()"
   ]
  },
  {
   "cell_type": "code",
   "execution_count": 5,
   "metadata": {},
   "outputs": [],
   "source": [
    "# Train the network\n",
    "\n",
    "for t in range(1000):\n",
    "    prediction = net(x_data.float())\n",
    "\n",
    "    loss = loss_func(prediction,y_data.float())\n",
    "    optimizer.zero_grad()\n",
    "    loss.backward()\n",
    "    optimizer.step()\n",
    "    "
   ]
  },
  {
   "cell_type": "code",
   "execution_count": 6,
   "metadata": {},
   "outputs": [
    {
     "name": "stdout",
     "output_type": "stream",
     "text": [
      "training loss =  0.00016855806461535394\n"
     ]
    },
    {
     "name": "stderr",
     "output_type": "stream",
     "text": [
      "/afs/crc.nd.edu/user/j/jcrum/anaconda3/lib/python3.7/site-packages/matplotlib/figure.py:445: UserWarning: Matplotlib is currently using module://ipykernel.pylab.backend_inline, which is a non-GUI backend, so cannot show the figure.\n",
      "  % get_backend())\n"
     ]
    },
    {
     "data": {
      "image/png": "[encoded data removed]",
      "text/plain": [
       "<Figure size 432x288 with 1 Axes>"
      ]
     },
     "metadata": {
      "needs_background": "light"
     },
     "output_type": "display_data"
    }
   ],
   "source": [
    "# print loss value\n",
    "\n",
    "print('training loss = ',loss.item())\n",
    "\n",
    "# plot the training data\n",
    "\n",
    "fig = plt.figure()\n",
    "ax = fig.add_subplot(111)\n",
    "ax.plot(y_data,y_data)\n",
    "ax.scatter(y_data,prediction.data.numpy(),c='purple',label='Training Points')\n",
    "ax.set_ylim([-5,-2.75])\n",
    "ax.set_xlim([-5,-2.75])\n",
    "ax.set_xlabel('True Values')\n",
    "ax.set_ylabel('Predicted Values')\n",
    "fig.show()"
   ]
  },
  {
   "cell_type": "markdown",
   "metadata": {},
   "source": [
    "# 75% Training / 25% Validating\n",
    "One proton location from each T Site is removed from the training data, and added to the validating data.\\\n",
    "This data was preseparated in processing_raw_data_into_features.ipynb."
   ]
  },
  {
   "cell_type": "code",
   "execution_count": 7,
   "metadata": {},
   "outputs": [],
   "source": [
    "# Read x data (ring feature list)\n",
    "\n",
    "x_train = np.loadtxt('one_per_T/x_train.csv', delimiter = ',', dtype = float)\n",
    "x_validate = np.loadtxt('one_per_T/x_validate.csv', delimiter = ',', dtype = float)\n",
    "\n",
    "# Read y data (deprotonation energies)\n",
    "\n",
    "y_train = np.loadtxt('one_per_T/y_train.csv',delimiter = ',', dtype = float, ndmin = 2)\n",
    "y_validate = np.loadtxt('one_per_T/y_validate.csv',delimiter = ',', dtype = float, ndmin = 2)"
   ]
  },
  {
   "cell_type": "code",
   "execution_count": 8,
   "metadata": {},
   "outputs": [],
   "source": [
    "# Convert to torch tensors\n",
    "\n",
    "x_train = torch.tensor(x_train)\n",
    "x_train = Variable(x_train)\n",
    "\n",
    "x_validate = torch.tensor(x_validate)\n",
    "x_validate = Variable(x_validate)\n",
    "\n",
    "y_train = torch.tensor(y_train)\n",
    "y_train = Variable(y_train)\n",
    "\n",
    "y_validate = torch.tensor(y_validate)\n",
    "y_validate = Variable(y_validate)"
   ]
  },
  {
   "cell_type": "code",
   "execution_count": 9,
   "metadata": {},
   "outputs": [],
   "source": [
    "# Set network seed for reproducability\n",
    "\n",
    "torch.manual_seed(1);\n",
    "\n",
    "# Define the network class\n",
    "\n",
    "class Net(torch.nn.Module):\n",
    "    def __init__(self, n_feature, n_hidden, n_output):\n",
    "        super(Net, self).__init__()\n",
    "        self.hidden = torch.nn.Linear(n_feature, n_hidden)\n",
    "        self.predict = torch.nn.Linear(n_hidden, n_output)\n",
    "        \n",
    "    def forward(self,x):\n",
    "        x = F.softsign(self.hidden(x))\n",
    "        x = self.predict(x)\n",
    "        return x\n",
    "    \n",
    "# Define our network\n",
    "\n",
    "net = Net(n_feature = len(x_train[0]), n_hidden = 60, n_output=1)\n",
    "\n",
    "# Define our optimizer\n",
    "\n",
    "optimizer = torch.optim.Rprop(net.parameters(), lr = .0002)\n",
    "\n",
    "# Define our loss function (mean squared error)\n",
    "\n",
    "loss_func = torch.nn.MSELoss()"
   ]
  },
  {
   "cell_type": "code",
   "execution_count": 10,
   "metadata": {},
   "outputs": [],
   "source": [
    "# Train the network\n",
    "\n",
    "for t in range(1000):\n",
    "    prediction = net(x_train.float())\n",
    "\n",
    "    loss = loss_func(prediction,y_train.float())\n",
    "    optimizer.zero_grad()\n",
    "    loss.backward()\n",
    "    optimizer.step()"
   ]
  },
  {
   "cell_type": "code",
   "execution_count": 11,
   "metadata": {},
   "outputs": [
    {
     "name": "stdout",
     "output_type": "stream",
     "text": [
      "training loss =  0.00011217526480322704\n",
      "validating loss =  0.0194920115172863\n"
     ]
    },
    {
     "data": {
      "image/png": "[encoded data removed]",
      "text/plain": [
       "<Figure size 432x288 with 1 Axes>"
      ]
     },
     "metadata": {
      "needs_background": "light"
     },
     "output_type": "display_data"
    }
   ],
   "source": [
    "# print loss value\n",
    "\n",
    "print('training loss = ',loss.item())\n",
    "\n",
    "# plot the training data\n",
    "\n",
    "fig = plt.figure()\n",
    "ax = fig.add_subplot(111)\n",
    "ax.plot(y_data,y_data)\n",
    "ax.scatter(y_train,prediction.data.numpy(),c='purple',label='Training Points')\n",
    "ax.set_ylim([-5,-2.75])\n",
    "ax.set_xlim([-5,-2.75])\n",
    "ax.set_xlabel('True Values')\n",
    "ax.set_ylabel('Predicted Values')\n",
    "\n",
    "# Predict the validating data\n",
    "\n",
    "prediction = net(x_validate.float())\n",
    "loss = loss_func(prediction,y_validate.float())\n",
    "\n",
    "# print loss values and plot validating data\n",
    "\n",
    "print('validating loss = ', loss.item())\n",
    "ax.scatter(y_validate,prediction.data.numpy(),c='cyan',label='Validation Points')\n",
    "#ax.axis('square')\n",
    "#ax.set_aspect('equal',adjustable='box')\n",
    "ax.legend(loc='best')\n",
    "fig.show()"
   ]
  },
  {
   "cell_type": "markdown",
   "metadata": {},
   "source": [
    "# Random 70% Training / 30% Validating\n",
    "Fully random splitting of the entire data set. "
   ]
  },
  {
   "cell_type": "code",
   "execution_count": 12,
   "metadata": {},
   "outputs": [],
   "source": [
    "# Read x data (ring feature list)\n",
    "\n",
    "x_train = np.loadtxt('random_30/x_train.csv', delimiter = ',', dtype = float)\n",
    "x_validate = np.loadtxt('random_30/x_validate.csv', delimiter = ',', dtype = float)\n",
    "\n",
    "# Read y data (deprotonation energies)\n",
    "\n",
    "y_train = np.loadtxt('random_30/y_train.csv',delimiter = ',', dtype = float, ndmin = 2)\n",
    "y_validate = np.loadtxt('random_30/y_validate.csv',delimiter = ',', dtype = float, ndmin = 2)"
   ]
  },
  {
   "cell_type": "code",
   "execution_count": 13,
   "metadata": {},
   "outputs": [],
   "source": [
    "# Convert to torch tensors\n",
    "\n",
    "x_train = torch.tensor(x_train)\n",
    "x_train = Variable(x_train)\n",
    "\n",
    "x_validate = torch.tensor(x_validate)\n",
    "x_validate = Variable(x_validate)\n",
    "\n",
    "y_train = torch.tensor(y_train)\n",
    "y_train = Variable(y_train)\n",
    "\n",
    "y_validate = torch.tensor(y_validate)\n",
    "y_validate = Variable(y_validate)"
   ]
  },
  {
   "cell_type": "code",
   "execution_count": 14,
   "metadata": {},
   "outputs": [],
   "source": [
    "# Set network seed for reproducability\n",
    "\n",
    "torch.manual_seed(1);\n",
    "\n",
    "# Define the network class\n",
    "\n",
    "class Net(torch.nn.Module):\n",
    "    def __init__(self, n_feature, n_hidden, n_output):\n",
    "        super(Net, self).__init__()\n",
    "        self.hidden = torch.nn.Linear(n_feature, n_hidden)\n",
    "        self.predict = torch.nn.Linear(n_hidden, n_output)\n",
    "        \n",
    "    def forward(self,x):\n",
    "        x = F.softsign(self.hidden(x))\n",
    "        x = self.predict(x)\n",
    "        return x\n",
    "    \n",
    "# Define our network\n",
    "\n",
    "net = Net(n_feature = len(x_train[0]), n_hidden = 60, n_output=1)\n",
    "\n",
    "# Define our optimizer\n",
    "\n",
    "optimizer = torch.optim.Rprop(net.parameters(), lr = .0002)\n",
    "\n",
    "# Define our loss function (mean squared error)\n",
    "\n",
    "loss_func = torch.nn.MSELoss()"
   ]
  },
  {
   "cell_type": "code",
   "execution_count": 15,
   "metadata": {},
   "outputs": [],
   "source": [
    "# Train the network\n",
    "\n",
    "for t in range(1000):\n",
    "    prediction = net(x_train.float())\n",
    "\n",
    "    loss = loss_func(prediction,y_train.float())\n",
    "    optimizer.zero_grad()\n",
    "    loss.backward()\n",
    "    optimizer.step()"
   ]
  },
  {
   "cell_type": "code",
   "execution_count": 16,
   "metadata": {},
   "outputs": [
    {
     "name": "stdout",
     "output_type": "stream",
     "text": [
      "training loss =  3.1470444810111076e-05\n",
      "validating loss =  0.020823581144213676\n"
     ]
    },
    {
     "data": {
      "image/png": "[encoded data removed]",
      "text/plain": [
       "<Figure size 432x288 with 1 Axes>"
      ]
     },
     "metadata": {
      "needs_background": "light"
     },
     "output_type": "display_data"
    }
   ],
   "source": [
    "# print loss value\n",
    "\n",
    "print('training loss = ',loss.item())\n",
    "\n",
    "# plot the training data\n",
    "\n",
    "fig = plt.figure()\n",
    "ax = fig.add_subplot(111)\n",
    "ax.plot(y_data,y_data)\n",
    "ax.scatter(y_train,prediction.data.numpy(),c='purple',label='Training Points')\n",
    "ax.set_ylim([-5,-2.75])\n",
    "ax.set_xlim([-5,-2.75])\n",
    "ax.set_xlabel('True Values')\n",
    "ax.set_ylabel('Predicted Values')\n",
    "\n",
    "# Predict the validating data\n",
    "\n",
    "prediction = net(x_validate.float())\n",
    "loss = loss_func(prediction,y_validate.float())\n",
    "\n",
    "# print loss values and plot validating data\n",
    "\n",
    "print('validating loss = ', loss.item())\n",
    "ax.scatter(y_validate,prediction.data.numpy(),c='cyan',label='Validation Points')\n",
    "#ax.axis('square')\n",
    "#ax.set_aspect('equal',adjustable='box')\n",
    "ax.legend(loc='best')\n",
    "fig.show()"
   ]
  },
  {
   "cell_type": "code",
   "execution_count": null,
   "metadata": {},
   "outputs": [],
   "source": []
  }
 ],
 "metadata": {
  "kernelspec": {
   "display_name": "Python 3",
   "language": "python",
   "name": "python3"
  },
  "language_info": {
   "codemirror_mode": {
    "name": "ipython",
    "version": 3
   },
   "file_extension": ".py",
   "mimetype": "text/x-python",
   "name": "python",
   "nbconvert_exporter": "python",
   "pygments_lexer": "ipython3",
   "version": "3.7.3"
  }
 },
 "nbformat": 4,
 "nbformat_minor": 2
}
