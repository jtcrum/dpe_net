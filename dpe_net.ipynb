{
 "cells": [
  {
   "cell_type": "markdown",
   "metadata": {},
   "source": [
    "# Predicting zeolite deprotonation energies via neural networks\n",
    "This notebook gives examples on how to use the size of the rings associated with oxygen sites, tetrahedral sites, and entire zeolite frameworks to predict the deprotonation energy (DPE) of each proton location in these  frameworks.\\\n",
    "Ring data was found using Zeolite Simulation Environment (zse), github.com/jtcrum/zse \\\n",
    "The DPE data comes from A. Jones and E. Iglesia, ACS Catal. 2015, 5, 5741−5755"
   ]
  },
  {
   "cell_type": "code",
   "execution_count": 78,
   "metadata": {},
   "outputs": [],
   "source": [
    "import numpy as np\n",
    "import torch\n",
    "from torch.autograd import Variable\n",
    "import torch.nn.functional as F\n",
    "import torch.utils.data as Data\n",
    "import matplotlib.pyplot as plt\n",
    "%matplotlib inline"
   ]
  },
  {
   "cell_type": "markdown",
   "metadata": {},
   "source": [
    "# Reproducibility Information\n",
    "Ring data was found using ZSE commit: 5a52d2\\\n",
    "Function to get O rings: zse.rings.get_orings_new()\\\n",
    "Function to get T-site rings: zse.rings.get_trings()\\\n",
    "Function to get framework rings: zse.rings.get_unique_rings()"
   ]
  },
  {
   "cell_type": "markdown",
   "metadata": {},
   "source": [
    "# Test Full Data Set"
   ]
  },
  {
   "cell_type": "code",
   "execution_count": 80,
   "metadata": {},
   "outputs": [],
   "source": [
    "# read x data (ring feature list)\n",
    "\n",
    "x_data = np.loadtxt('full_data/x_values.csv', delimiter = ',', dtype = float)\n",
    "\n",
    "# read y data (deprotonation energies)\n",
    "\n",
    "y_data = np.loadtxt('full_data/y_values.csv',delimiter = ',', dtype = float, ndmin = 2)"
   ]
  },
  {
   "cell_type": "code",
   "execution_count": 81,
   "metadata": {},
   "outputs": [],
   "source": [
    "# convert data to torch tensors\n",
    "\n",
    "x_data = torch.tensor(x_data)\n",
    "x_data = Variable(x_data)\n",
    "\n",
    "y_data = torch.tensor(y_data)\n",
    "y_data = Variable(y_data)\n"
   ]
  },
  {
   "cell_type": "code",
   "execution_count": 82,
   "metadata": {},
   "outputs": [],
   "source": [
    "# Set network seed for reproducability\n",
    "\n",
    "torch.manual_seed(1);\n",
    "\n",
    "# Define the network class\n",
    "\n",
    "class Net(torch.nn.Module):\n",
    "    def __init__(self, n_feature, n_hidden, n_output):\n",
    "        super(Net, self).__init__()\n",
    "        self.hidden = torch.nn.Linear(n_feature, n_hidden)\n",
    "        self.predict = torch.nn.Linear(n_hidden, n_output)\n",
    "        \n",
    "    def forward(self,x):\n",
    "        x = F.softsign(self.hidden(x))\n",
    "        x = self.predict(x)\n",
    "        return x\n",
    "    \n",
    "# Define our network\n",
    "\n",
    "net = Net(n_feature = len(x_data[0]), n_hidden = 60, n_output=1)\n",
    "\n",
    "# Define our optimizer\n",
    "\n",
    "optimizer = torch.optim.Rprop(net.parameters(), lr = .0002)\n",
    "\n",
    "# Define our loss function (mean squared error)\n",
    "loss_func = torch.nn.MSELoss()"
   ]
  },
  {
   "cell_type": "code",
   "execution_count": 83,
   "metadata": {},
   "outputs": [],
   "source": [
    "# Train the network\n",
    "\n",
    "for t in range(1000):\n",
    "    prediction = net(x_data.float())\n",
    "\n",
    "    loss = loss_func(prediction,y_data.float())\n",
    "    optimizer.zero_grad()\n",
    "    loss.backward()\n",
    "    optimizer.step()\n",
    "    "
   ]
  },
  {
   "cell_type": "code",
   "execution_count": 85,
   "metadata": {},
   "outputs": [
    {
     "name": "stdout",
     "output_type": "stream",
     "text": [
      "training loss =  0.00015400975826196373\n"
     ]
    },
    {
     "data": {
      "image/png": "iVBORw0KGgoAAAANSUhEUgAAAaAAAAEKCAYAAABUsYHRAAAABHNCSVQICAgIfAhkiAAAAAlwSFlzAAALEgAACxIB0t1+/AAAADl0RVh0U29mdHdhcmUAbWF0cGxvdGxpYiB2ZXJzaW9uIDMuMC4zLCBodHRwOi8vbWF0cGxvdGxpYi5vcmcvnQurowAAIABJREFUeJzt3Xl8{
 "cells": [
  {
   "cell_type": "markdown",
   "metadata": {},
   "source": [
    "# Predicting zeolite deprotonation energies via neural networks\n",
    "This notebook gives examples on how to use the size of the rings associated with oxygen sites, tetrahedral sites, and entire zeolite frameworks to predict the deprotonation energy (DPE) of each proton location in these  frameworks.\\\n",
    "Ring data was found using Zeolite Simulation Environment (zse), github.com/jtcrum/zse \\\n",
    "The DPE data comes from A. Jones and E. Iglesia, ACS Catal. 2015, 5, 5741−5755"
   ]
  },
  {
   "cell_type": "code",
   "execution_count": 78,
   "metadata": {},
   "outputs": [],
   "source": [
    "import numpy as np\n",
    "import torch\n",
    "from torch.autograd import Variable\n",
    "import torch.nn.functional as F\n",
    "import torch.utils.data as Data\n",
    "import matplotlib.pyplot as plt\n",
    "%matplotlib inline"
   ]
  },
  {
   "cell_type": "markdown",
   "metadata": {},
   "source": [
    "# Reproducibility Information\n",
    "Ring data was found using ZSE commit: 5a52d2\\\n",
    "Function to get O rings: zse.rings.get_orings_new()\\\n",
    "Function to get T-site rings: zse.rings.get_trings()\\\n",
    "Function to get framework rings: zse.rings.get_unique_rings()"
   ]
  },
  {
   "cell_type": "markdown",
   "metadata": {},
   "source": [
    "# Test Full Data Set"
   ]
  },
  {
   "cell_type": "code",
   "execution_count": 80,
   "metadata": {},
   "outputs": [],
   "source": [
    "# read x data (ring feature list)\n",
    "\n",
    "x_data = np.loadtxt('full_data/x_values.csv', delimiter = ',', dtype = float)\n",
    "\n",
    "# read y data (deprotonation energies)\n",
    "\n",
    "y_data = np.loadtxt('full_data/y_values.csv',delimiter = ',', dtype = float, ndmin = 2)"
   ]
  },
  {
   "cell_type": "code",
   "execution_count": 81,
   "metadata": {},
   "outputs": [],
   "source": [
    "# convert data to torch tensors\n",
    "\n",
    "x_data = torch.tensor(x_data)\n",
    "x_data = Variable(x_data)\n",
    "\n",
    "y_data = torch.tensor(y_data)\n",
    "y_data = Variable(y_data)\n"
   ]
  },
  {
   "cell_type": "code",
   "execution_count": 82,
   "metadata": {},
   "outputs": [],
   "source": [
    "# Set network seed for reproducability\n",
    "\n",
    "torch.manual_seed(1);\n",
    "\n",
    "# Define the network class\n",
    "\n",
    "class Net(torch.nn.Module):\n",
    "    def __init__(self, n_feature, n_hidden, n_output):\n",
    "        super(Net, self).__init__()\n",
    "        self.hidden = torch.nn.Linear(n_feature, n_hidden)\n",
    "        self.predict = torch.nn.Linear(n_hidden, n_output)\n",
    "        \n",
    "    def forward(self,x):\n",
    "        x = F.softsign(self.hidden(x))\n",
    "        x = self.predict(x)\n",
    "        return x\n",
    "    \n",
    "# Define our network\n",
    "\n",
    "net = Net(n_feature = len(x_data[0]), n_hidden = 60, n_output=1)\n",
    "\n",
    "# Define our optimizer\n",
    "\n",
    "optimizer = torch.optim.Rprop(net.parameters(), lr = .0002)\n",
    "\n",
    "# Define our loss function (mean squared error)\n",
    "loss_func = torch.nn.MSELoss()"
   ]
  },
  {
   "cell_type": "code",
   "execution_count": 83,
   "metadata": {},
   "outputs": [],
   "source": [
    "# Train the network\n",
    "\n",
    "for t in range(1000):\n",
    "    prediction = net(x_data.float())\n",
    "\n",
    "    loss = loss_func(prediction,y_data.float())\n",
    "    optimizer.zero_grad()\n",
    "    loss.backward()\n",
    "    optimizer.step()\n",
    "    "
   ]
  },
  {
   "cell_type": "code",
   "execution_count": 85,
   "metadata": {},
   "outputs": [
    {
     "name": "stdout",
     "output_type": "stream",
     "text": [
      "training loss =  0.00015400975826196373\n"
     ]
    },
    {
     "data": {
      "image/png": "iVBORw0KGgoAAAANSUhEUgAAAaAAAAEKCAYAAABUsYHRAAAABHNCSVQICAgIfAhkiAAAAAlwSFlzAAALEgAACxIB0t1+/AAAADl0RVh0U29mdHdhcmUAbWF0cGxvdGxpYiB2ZXJzaW9uIDMuMC4zLCBodHRwOi8vbWF0cGxvdGxpYi5vcmcvnQurowAAIABJREFUeJzt3Xl8VNX9//HXBwgaUCIgKooBVL4oFjdSbGtti+CCS6GtrVgrUqsp9dsq36q45Fu1Kr8vLq3aTaS1KG3qXosIVCXurdYmCAxVK4uAIkgBCSrIEj6/P+6dMDOZJBMyMzfL+/l4zIO5554795Phkg/n3HPPMXdHREQk3zpEHYCIiLRPSkAiIhIJJSAREYmEEpCIiERCCUhERCKhBCQiIpGIJAGZ2W1m9paZLTSzx81snzR1BprZ/ITXJjObEO67wcxWJew7Pf8/hYiINIdF8RyQmZ0CPOvuO8zsFgB3v6qB+h2BVcDx7r7CzG4APnb32/MSsIiIZF0kLSB3f9rdd4SbrwJ9GjlkOLDU3VfkNjIREcmXTlEHAFwIPNRInTHAAyllPzSzsUAlcLm7f5juQDMrBUoBunbtOuTwww9vZrgiIu1LVVXVOnfvle3PzVkXnJnNBQ5Is6vM3WeEdcqAEuDrXk8gZtYZeB840t0/CMv2B9YBDtwE9Hb3CxuLqaSkxCsrK3fnxxERabfMrMrdS7L9uTlrAbn7iIb2m9k44ExgeH3JJzQSmBdPPuFn1743s98CTzYvWhERybeoRsGdBkwEvurumxupfi4p3W9m1jth82vAouxGKCIiuRbVc0C/AvYGngmHUU8BMLMDzWx2vJKZdQVOBv6ccvytZhYzs4XAMOB/8hS3iIhkSSSDENz9sHrK3wdOT9j+BOiZpt75uYtORETyQTMhiIhIJJSAREQkEkpAIiISCSUgERGJhBKQiIhEQglIREQioQQkIiKRUAISEZFIKAGJiEgklIBERCQSSkAiIhIJJSAREYmEEpCIiERCCUhERCKhBCQiIpGILAGZ2U1mtjBckO5pMzuwnnoXmNni8HVBQvmQcFG6JWb2CzOz/EUvIiLNFWUL6DZ3P8rdjwGeBK5LrWBmPYDrgeOBocD1ZtY93H03cDEwIHydlpeoRUQkKyJLQO6+KWGzK+Bpqp0KPOPuG9z9Q+AZ4DQz6w10c/dX3d2B6cDonActIiJZE8mS3HFmNgkYC1QDw9JUOQh4N2H7vbDsoPB9armIiLQSOW0BmdlcM1uU5jUKwN3L3P1goBz4YY5iKDWzSjOr/M9//pOLU4iIyG7IaQvI3UdkWLUcmE1wvyfRKuArCdt9gOfD8j4p5avqiWEqMBWgpKQkXTefiIhEIMpRcAMSNkcBb6Wp9hRwipl1DwcfnAI85e6rgU1m9rlw9NtYYEbOgxYR2Q2x8hh39ruTn3b4KXf2u5NYeSzqkFqEKO8BTTazgcBOYAUwHsDMSoDx7n6Ru28ws5uAf4bH3OjuG8L3lwD3AYXAnPAlItKixMpjzCydyfbN2wGoXlHNzNKZAAw+b3CUoUXOgkFk7UNJSYlXVlZGHYaItCN39ruTdas/YtkRPTh00Xo61QS/c4v6FjFh+YSIo8uMmVW5e0m2PzfSUXAiIm1NrDxGRVkF1SurKSou4pWee/CPMcEdhx5rt9Br9ScAVK+sjjLMFkEJSEQkSxK72z4t7MS0MbtudR8+b21t8gEoKi6KIsQWRQlIRCRLKsoq2L55O/NOPJAFX9g1u9i3frOArh9tr90u6FLA8EnDowixRVECEhHJklUbt/DIVbtulRz70iqO+ftqILjnE++WGz5peLsfgABKQCIiWXHVowt5ZPxRtdvfvut19vi0BmhdAw7ySQlIRKQZ3v7gI06548Xa7S8+9x4DXltTu63utvopAYmIZGjWJbOomlqF1zh0NP4xYQhvhL9FO3fqwPzrTmbpI28mjYJTd1v9lIBERDIw65JZVN4dPEe49sCuzDr/iNp9vznvOE4f3BsIHi5VwsmMEpCISAaqplax02DmBYPYsH8XAPbauJWzf7+I0yefEXF0rZMSkIhIBlb27cbcb+56rufUB/7NgSs/ijCi1k8JSESkAZ9ur+ELk59lQ5h89n/3I0b+6d9YuN86Wv0HS4OUgERE6vHnee/x44cX1G6fdd8b7PvB5qQ6Q0qH5DusNkMJSEQkxUefbmfwDU/Xbp9xVG9+de6xzN5E7Sg462gMKR3CGb/R/Z/dpdmwRUQS/O6lZdw8683a7eeu+Ar99+0aYUTR02zYIiI5tO7jrZTcPLd2+7sn9OP6s46MMKK2TwlIRNq9yXPeYsoLS2u3X7t2OPt12zPCiNqHSBJQuMrpKILVUNcC49z9/ZQ6xwB3A92AGmCSuz8U7rsP+DIQX1BjnLvPz0/0ItJWvLthMyfe+lzt9sTTBnLJVw6LMKL2JaoW0G3u/hMAM7sUuI5wSe4Em4Gx7r7YzA4EqszsKXffGO6/0t0fzV/IItKW/Pih+fz59VW12wuuP4WiwoIII2p/IklA7r4pYbMrUGckhLu/nfD+fTNbC/QCNqbWFRHJ1JurNzHyrpdqt2/5xmDO+WxxhBG1X5HdAzKzScBYgm60YY3UHQp0BpYmFE8ys+uACuBqd99az7GlQClAcbEuMpH2yt35zr3/4G9L1gPQtXNHqn5yMnsWdIw4svYrZ8OwzWwucECaXWXuPiOh3jXAnu5+fT2f0xt4HrjA3V9NKFtDkJSmAkvd/cbGYtIwbJH26bV3NvCte16p3b7n/CGcemS6X0+STqsbhu3uIzKsWg7MBuokIDPrBswiSFqvJnz26vDtVjObBlzRzHBFpA3aUbOT0+56iSVrPwbgkF5deXrCl+jUsUPEkQlENwpugLsvDjdHAW+lqdMZeByYnjrYwMx6u/tqMzNgNLAo1zGLSOvyzBsfcPH0XT0eD5Z+js8d0jPCiCRVVPeAJpvZQIJh2CsIR8CZWQkw3t0vAr4FfAnoaWbjwuPiw63LzawXYMB86o6gE5F26tPtNXz25rl8tHUHAJ8/pCd/uvh4gv+vSkuiqXhEpM14uPJdJj66sHZ71qVf5MgDiyKMqG1odfeARETypXrLdo7+6a7JQ0cdcyB3jTk2wogkE0pAItKqTXlhKZPn7LqN/OKVwyju2SXCiCRTSkAi0iqt3fQpQ/9fRe126ZcO4drTj4gwImkqJSARaXVufvINfvfyO7Xb/ywbQa+994gwItkdSkAi0mosX/cJX7n9+drta08/nNIvHRpdQNIsSkAi0ir86IHXmblg16T5C284hW57avLQ1kwJSERatEWrqjnzly/Xbt/+zaM5e0ifCCOSbFECEpEWyd05Z+qrvPbOBgD26VLAq9cM1+ShbYgSkIi0OK8sXc+5v62d/pF7Lyhh+BH7RxiR5IISkIi0GNtrdnLyz19g+frNAAzcf29mX3YiHTtoGp22SAlIRFqEvy5azfg/zqvdfnT85ynp1yPCiCTXlIBEJFJbttVw7E1P8+n2nQCcOGBfpl84VJOHtgNKQCISmQdeW8k1f47Vbv91wokcfkC3CCOSfFICEpG8q968naNv3DV56NlD+nD7N4+OMCKJQqMJyMxOAOa7+ydm9h3gOOAud1+R8+hEpE2IlceoKKugemU1/z6tH38/at/afS9NHMbBPTR5aHuUybq0dwObzexo4HJgKTC9uSc2s5vMbKGZzTezp83swHrq1YR15pvZEwnl/c3sH2a2xMweCldQFZEWJlYeY2bpTN5fv5lpE0tqk883e3Vj+eQzlHzasUy64Ha4u5vZKOBX7n6vmX0vC+e+zd1/AmBmlwLXkX5l0y3ufkya8luAO9z9QTObAnyPIFmKSAtQ2+pZUc20q5LXMhvzy/kc0KsrXH5iRNFJS5BJAvrIzK4BzgdONLMOQLMnYHL3TQmbXYGMl2a1YHjMScC3w6L7gRtQAhJpEeKtnmW9uzA3IfkMfmU1JS+uAqB6ZXVU4UkLkUkCOofgF/2F7r7GzIqB27JxcjObBIwFqoFh9VTb08wqgR3AZHf/C9AT2OjuO8I67wEH1XOOUqAUoLi4OBthi0gj5pZVMPVHyYMKzvn1Arp8vL12u6hYS2W3d40moDDpPAYMCIvWAY9n8uFmNhc4IM2uMnef4e5lQFnYwvohcH2aun3dfZWZHQI8a2YxgoSVEXefCkwFKCkpybiVJSKZSxxksGJYMc+OGVC7r8/SjZz86JKk+gVdChg+aXi+w5QWJpNRcBcTtCB6AIcStDSmAI1ePe4+IsM4yoHZpElA7r4q/HOZmT0PHAs8BuxjZp3CVlAfYFWG5xKRLIp3t23dsp37Jybf6/nOHfMo2LYzqayobxHDJw1n8HmD8xmmtECZdMH9NzAU+AeAuy82s/2ae2IzG+Dui8PNUcBbaep0Bza7+1Yz2xc4Abg1HBTxHHA28CBwATCjuTGJSNNVlFXwSsl+xD7fu7ZsUOUHHP/su0l3dgu6FHDW1LOUeKRWJgloq7tvi0+LYWadaMKAgQZMNrOBwE5gBeEIODMrAca7+0XAEcA9ZraTYMj4ZHd/Izz+KuBBM7sZeB24NwsxiUg9ErvZCnsUUrO1hk+27uCPPz4uqd4Ft1XRYWfwK6KobxHVK6spKlarR+rKJAG9YGbXAoVmdjJwCTCzuSd292/UU14JXBS+/zuQ9op192UELTMRybF4N9v2zcEggi3rt9QZWj20YiVHVq6t3S7qW8SE5RPyGqe0LpkkoKsJnrGJAd8nuFfzu1wGJSItS0VZxa7k06UTD/4o+dG8cbdUkjh1qAYZSCYyGQW3E/ht+BKRdij+zM4DPzyaT7vuegyw5Ll3GfzaB0l1NchAMpXJKLh3SHPPx90PyUlEItLifHLs/jx88sFJZd+9pbJOPXW7SVNk0gWX2NG7J/BNgiHZItIO9Lt6FiQkn+GPLqZ4ad1H8ToUdFC3mzRJo5ORuvv6hNcqd78TOCMPsYlIhJ5c+H6QfBJMeHAxxcuqKexZSOe9ds3/W9izkNHTRqvbTZokky64xDGWHQhaRFpHSKQNS008j/3g8wzp2wMmRxSQtEmZJJKfJbzfASwHvpWTaEQkUr9+bgm3PfXvpLLlk9XhIbmRySi4+iYJFZE2wt3pf83spLIXrxxGcU+t1SO5U28CMrMfN3Sgu/88++GISL6ldreBWj2SHw21gPbOWxQiknWJU+ekmwpn87YdDLruqaRjxvxqPgfs25XY4JgGFEjO1ZuA3P2n+QxERLJn1iWzqJxSWfsEX/WKamaWBjNoDT5vcNpWT/y5nupPkuuK5Eomo+D2JJiK50iC54AAcPcLcxiXiOymWHksKfnEbd+8nT/8aBYPx1YmlZ//syo67fA6dSvKKpSAJKcyGQX3B4KlEk4FbgTOA97MZVAisvsqyirSzlefOnkopJ/NIE5LZkuuZZKADnP3b5rZKHe/38z+BLyU68BEpGlq7/msSE4cbx+1L38b2S+pbNytlVgji6poyWzJtUwSUHwR941m9hlgDdDsBelEJDti5THmXDaHLeu31NmX2uop/HgbY369EADraHhN+iyk2awlHzJJQFPDlUn/F3gC2Av4SXNOamY3EayCuhNYC4xz9/dT6gwD7kgoOhwY4+5/MbP7gC8D8f/qjXP3+c2JSaQ1ipXHmHHhDGq21SSVv3Bmf5Yd2TOpLLW7zWucgi4FtcssxBX2LGTkXSN1/0dyztzT/w/IzA5w9zU5OalZN3ffFL6/FBjk7uMbqN8DWAL0cffNYQJ60t0fbcp5S0pKvLKy/j5vkdbm1n1vrdPySW31FGyt4Tt3vl7n2PiyCQ0N1RYBMLMqd697E7GZGmoBzTezRcADwGPuvjFbJ40nn1BXGl/i+2xgjrtvzlYMIq1Z/H5PYvKZ/uNjqSnomFSvoUEG8WSjhCNRaWg27IOA24AvAv82sxlmNsbMCrNxYjObZGbvEoyqu66R6mMIEmGiSWa20MzuMLM9GjhPqZlVmlnlf/7zn2ZGLRK9WHmMxy94PGmwwbSrSpKSz2f+sabB5FPQtUCJRyJXbxdcUiWzzsBIgkQwDKhw9/MaOWYucECaXWXuPiOh3jXAnu5+fT2f0xtYCBzo7tsTytYAnYGpwFJ3v7Gxn0NdcNIW3LznzdRsDe75NHVoNQTr9mjpBGmKKLrgarn7NjN7g+D5nyHAERkcMyLDGMqB2UDaBEQw8/bj8eQTfvbq8O1WM5sGXJHhuURatVh5jJqtNew0uH9i8u+Dkx5bQt8ldXvKC3sGnRZbNmzRfR5pURpMQGZ2MEGr51yCezUPAF9197eac1IzG+Dui8PNUQQPutbnXOCalON7u/tqMzNgNLCoOfGItBYVZRUZt3rU0pGWrqHZsP9OcB/oYeBid6/K4nknm9lAgmHYK4Dx4TlLgPHuflG43Q84GHgh5fhyM+sFGDA/frxIWzLrkllUTa2qfVbn08JOPHDpMUl1zr57IXtv2lbn2PgINyUfackaGob9JeAlz+QmUSuhe0DSWsy6ZBaVd++6VjNp9RR0LeCse85S0pGsy/s9IHd/MdsnE5HMVN0TdDhs7LEnj1/8maR95/9sHp127Ewq6z+8P2Pnjs1bfCLZkNEgBBHJL9/pPPDDo/m0a0FSeVKrx9CgAmnVlIBEIpS6aNyA0wfwzxeXc19Kl9u4WyqxhG3raFy3o7HH50RaNi3JLRKRWHmMmaUza+diq15RzW3vb2D5mf1q63zpiWUc+uaGOscOKR2SrzBFciaTJbkHAp8lmIgU4CzgtVwGJdIeVJRV1Cafj4o68+j4o5L2pxtabR2MId8fwhm/OSMvMYrkUqNLcpvZi8Bx7v5RuH0DUHc9XxFpkviCbzPHHsG63l1ry78+NUbRh1uT6mpYtbRFmdwD2h9IfNBgW1gmIs2wx6HdeWpQ99rkc/CSjYx4bEmdekV9i5iwfEK+wxPJuUwS0HTgNTN7PNweDdyfu5BE2r6/LlrDQ+cMYOO2Gvos3cgJc5bT5ZMddeppYThpyxpNQO4+yczmACeGRd9197qLi4hIHamj3I674Ss8WFDD7NgaBvXuxvVdu7D84SVUb95BUd9gFNzi2Yu1Po+0C5kOw+4CbHL3aWbWy8z6u/s7uQxMpLVLHOXmQNVenbh7/gp2FnbiylMHUvqlQyjo2AEu0og2aZ8aTUBmdj1QQjAabhpQAPwROCG3oYm0bvFRbu/178Yrp/bl46I92O+9jzhtwXr++/80ik0kkxbQ14BjgXkA7v6+me3d8CEisuG9TUxPeKD0+GdWcMS8/2DWwEEi7UgmCWibu7uZOYCZdW3sAJH27p4XljL9il1dayc+uYzD/hU8UFpUXBRVWCItSiYJ6GEzuwfYx8wuBi4EfpfbsERap4+37uAz1z+VVJY4jY5GtYnskskouNvN7GRgE8F9oOvc/ZmcRybSytzwxL+47+/La7f/8L2h7PPaGir6alSbSDqZDEK4xd2vAp5JU9ZsZnY5cDvQy93Xpdl/AfC/4ebN7n5/WD4EuA8oJFjS+7K2tHaRtB5rP/qUoZMqare7dO7IGzeeFmwM6KWEI1KPDhnUOTlN2chsnDxc8vsUYGU9+3sA1wPHA0OB682se7j7buBiYED4Oi0bMYk0xUX3/zMp+Tz5oy/uSj4i0qCGZsP+AXAJcKiZLUzYtTfw9yyd/w5gIjCjnv2nAs+4+4YwpmeA08zseaCbu78alk8nmKFhTpbiEmnQO+s+Ydjtz9duD+rdjdmXnVj/ASJSR0NdcH8i+IX+f8DVCeUfxRNCc5jZKGCVuy+w+selHgS8m7D9Xlh2UPg+tTzdeUqBUoDi4uJmRi0CJ//8BRav/bh2+8Urh1Hcs0uEEYm0Tg3Nhl0NVJvZXcCGhNmwu5nZ8e7+j8Y+3MzmAgek2VUGXEvQ/ZZT7j4VmApQUlKie0Sy2+a/u5HRv/5b7fZpRx7AlPM1i4HI7spkGPbdwHEJ2x+nKUvL3UekKzezwUB/IN766QPMM7Oh7r4moeoq4CsJ232A58PyPinlqxqLR2R3uDsDyuawY+eu/79U/e8Ieu61R4RRibR+mQxCsMTRZe6+k2Yu5e3uMXffz937uXs/gi6041KSD8BTwClm1j0cfHAK8JS7rwY2mdnnLMhgY6n/PpLIbnvurbX0v2Z2bfK5+MT+LJ98hpKPSBZkkkiWmdmlBK0eCAYmLMtVQGZWAox394vcfYOZ3QT8M9x9Y8L9p0vYNQx7DhqAIM2UOHN1t+Ii7hozIGn/v356Kl33aNb/vUQkgTX26IyZ7Qf8AjgJcKACmODua3MfXnaVlJR4ZWXdZY5FEmeuXjy4Jy+f3r9230/OHMT3vti/gaNF2jYzq3L3ksZrNk0mMyGsBcZk+8QiLUlFWQWbt9fwx6uS/4396KHFfG+yZq4WyYWGngOa6O63mtkvCVo+Sdz90pxGJpJjiV1uT4w9gvUH7Jpn98tPLOWQNz/kY81cLZIzDbWA3gz/VJ+VtCmx8hhzLpvDlvVb2Ny1gIcmJrd6EicP1czVIrnT0HNAM8M/789fOCK5lXivZ9rEISQuznP83JUMqtp1a1MzV4vkVkNdcDNJ0/UW5+5fzUlEIjlUUVbB2i4d+cuPjk4q/+4tCQ19QzNXi+RBQ11wt4d/fp1gNoM/htvnAh/kMiiRXLkzZWj1SY8toe+SjbXbRX2LmLB8Qr7DEmmXGuqCewHAzH6WMvxuppnpvpC0Kn9bso7zfpc8e1RSqwd1uYnkWyZP1XU1s0PcfRmAmfUHtCy3tBr9rp6VtP21h95mn+WbksoKexYy8q6R6nITyaNMEtD/AM+b2TLAgL7A93MalUgWPFL5Llc+ujCpbPnkM4gNLq4dfq17PSLRaXQmBAAz2wM4PNx8y9235jSqHNFMCO2Du9P/mtlJZS9NHMbBPbRkgsjuiGwmBDPrAvwY6OvuF5vZADMb6O5PZjsYkeb6+dP/5hfPLqndPmifQv529UkRRiQi9cmkC24aUAV8PtxeBTwCKAFJi7G9ZicDypLno11w/SkUFRZEFJGINCaTBHSou59jZucCuPtma2AJU5FcS5xCp6i4iMrvH83L1Ztr9w8/fD/uHffZCCMUkUxkkoC2mVkh4UOpZnYo0CrvAUnrN+uSWVROqQSHbZ07BM/1JCSft28eSedOmSxzJSJRyyQBXQ/8FTjYzMqBE4BxuQxKJJ1YeYzKu4NBJNNSZq0e8uYGHptxfhRhichuajABhV1tbxHMhvA5gmHYl7n7umyc3MwuJ5hxoVfqZ5rZMQSL4HUDaoBJ7v5QuO8+4MtAdVh9nLvPz0ZM0nLNuWwO6/bvwsxxg5LKx91SiTqFRVqfBhOQu7uZzXb3wcCshuo2lZkdTLDE9sp6qmwGxrr7YjM7EKgys6fcPT5vypXu/mg2Y5KWZdYls6iaWoXXONbR+P0VQ5L2D/rnBxz/7LuAZq0WaY0y6YKbZ2afdfd/Nl61Se4AJgIz0u1097cT3r9vZmuBXsDGdPWlbZk+YjrvVLwDwDsDu/P86EOT9qdOo6MpdERan0wS0PHAd8xsOfAJQTecu/tRu3tSMxsFrHL3BZkMqDOzoUBnYGlC8SQzu45gifCr63s41sxKgVKA4uLi3Q1Z8iRxrR6oe6/n6L+9z3Evv59U1nmvzprJQKQVyiQBnbo7H2xmcwlm0U5VBlxL0P2Wyef0Bv4AXODuO8Pia4A1BElpKnAVcGO64919aliHkpKSxqd9kMgkjnB76pz/4v1+3ZL2p7Z6ADp27siZU87MV4gikkUNrQe0JzAeOAyIAfe6+45MP9jdR9TzuYOB/kC89dOHoJtvqLuvSanbjeDeU5m7v5rw2avDt1vNbBpwRaZxScuTmHigbqvn839dzuELwjEq4Vo9msdNpPVrqAV0P7AdeAkYCQwCLmvuCd09BuwX3w679krSjILrDDwOTE8dbGBmvd19dThKbzSwqLlxSTRmXTKr3qHVULfVUzK+hDN+c0ZeYhOR3GooAQ0KR79hZvcCr+U6GDMrAca7+0XAt4AvAT3NbFxYJT7cutzMehHcj5pP0FKTVqjqniocuC8l+Zzy8Nsc9E7ykgkdOndQ8hFpQxpKQNvjb9x9R65m33H3fgnvK4GLwvd/ZNcqrKnHaHbJVixxeHUmrR6ADgUdGP370fkIT0TypKEEdLSZxf8LakBhuB0fBdet/kNF0ot3uW3doyN/uuLYpH1f++0i9tnwaZ1jivrqXo9IW9TQktwd8xmItA9VU6syavV03qszZ045U0lHpA3LZBi2SFasWP9JndkMvvPzeRRs35lUVtC1gGs+uiafoYlIBJSAJC/6XV13Jqd093oKuhRw1j1n5SMkEYmYEpDkTKw8xu9/+QqPf+WgpPJxt1SSbkiL7vWItC9KQJITsfIYZ8VWQkLy6bFuC/cPG8jKH5A0yeiQ0iEaXi3SDikBSVYkrlIaO/MQKgf1SNof726rmPseE5ZPUMIRESUgab7EqXRSR7j1/feHnPSXXXPIVq+sTj1cRNopJSBpllh5jMoplcw8/wjW9e6atC/dIAOt2yMicUpA0iwVZRVMm5jc6hk6dyVHVq2tU7egS4HW7RGRWkpA0iR1ptEZMyBpf2Krp7BnIZ336qyZq0UkLSUgyVh8Gp2dBven3Os5+ZG36bMsYfJQg5F3jVTCEZF6KQFJxjKdRgcLlk1Q8hGRhigBSYPiw6tXfbiZR1Km0Tl7ykL2rt4GBA+RqqtNRJpCCUjSamhoNSS3eqyjMWH5hHyGJyJtQOQJyMwuB24HeqWuihruryFYEhxgpbt/NSzvDzwI9ASqgPPdfVt+om7bpo+YzjsV77BiwD48+/XDkvalmzx0SGlyy0hEJBORJiAzOxg4BVjZQLUt7n5MmvJbgDvc/UEzmwJ8D7g7B2G2C7UzGawIHhTN5F6PptERkeaIugV0BzARmNGUgyxYnvUk4Nth0f3ADSgB7ZZYeYwZF86gZlsNL5/Wl8VH90ranzp5aFHfInW5iUizRZaAzGwUsMrdFzSy3PeeZlYJ7AAmu/tfCLrdNrr7jrDOe8BB6Q42s1KgFKC4uDhb4bcJu9Pq0cOkIpItOU0wWrlyAAAOt0lEQVRAZjYXOCDNrjLgWoLut8b0dfdVZnYI8KyZxYCMJxRz96nAVICSkhLP9Li2LlYeY2bpTLZv3p7Z0Gq0SqmIZFdOE5C7j0hXbmaDgf5AvPXTB5hnZkPdfU3KZ6wK/1xmZs8DxwKPAfuYWaewFdQHWJWzH6QN2Z1WD0D/4f0ZO3dszuMTkfYjki44d48B+8W3zWw5UJI6Cs7MugOb3X2rme0LnADc6u5uZs8BZxOMhLuAJt5Ham/iI9viMk08WiRORHIl6kEIdZhZCTDe3S8CjgDuMbOdQAeCe0BvhFWvAh40s5uB14F7Iwm4BUtt7cSlJp8D36nm1IcXJ5V1KOjA6GmjlXhEJGdaRAJy934J7yuBi8L3fwfS/gZ092XA0HzE1xoljmyLa7TVY4Cr1SMi+dEiEpBkR+KqpGaG7wzGXGwv6MAff3xcUt0v/HU5Axfs6vFU0hGRfFMCaiMSR7UBuAfJJ6MHSjtoKh0RyT8loDYgVh7j8Qsex2t2jTJfv18hT3z3yKR6o37/L3r8Z0ud4+MtJRGRfFICauXi93oSk0+mI9ziivpqmWwRyT8loFYi8f5O4pIHcy6bUzvQYPFnevLyGf2Tjjv/Z/PotGNnuo8ENLOBiETH4vcK2oOSkhKvrKy/JdBSpRvR1rFzR7of1p11bwQDCZrU6tFoNxFpAjOrcve6v2SaSS2gViCxlRNXs62GdW+s4+WRfVl8VPLkoQ11txX2LNRS2SLSIigBtQJb1tcdOACZtXo6dOrAzpqdWqlURFocJaAWKvGeT6r7rziOnR07JJVp/jYRaW2UgFqg1Gd6EqW2evaq3so3p8Tq1AOUfESkRVMCaoEqyirqJB8NrRaRtkYJqIWJlceSJg914L6U5DPw9bV84en6VzHX0GoRaQ2UgFqApFmrExaHbUqrp7BnIVs2bNFgAxFpNZSAIjbrkllUTqkMmjoADjs6Gn+4YkhSvbPue4N9P9hc9wMMSsaXcMZvzsh9sCIiWaQEFKFYeYzKu5NbNE1p9VhH42v3f02tHRFplSJNQGZ2OXA70CvNaqjDgDsSig4Hxrj7X8zsPuDLQPxmyTh3n5+HkLMmVh7jz+f/uXb70z078sBlxybV+fadr7PH1prUQ4HgPs9ZU89S8hGRViuyBGRmBwOnAGnvprv7c8AxYd0ewBLg6YQqV7r7o7mOMxfiw6zj3W4vnNWfZYN6JtVpbISb7vOISGsXZQvoDmAiMCODumcDc9w9zU2Q1mfOZXPYvnk7nxZ24oFLj0naN+6WysRxCEnU6hGRtiSSBGRmo4BV7r7ArL5ft0nGAD9PKZtkZtcBFcDV7r41y2HmRKw8xpb1W3jr6H155bR+teVfnPUOAxatT6rbsXNHOu/dWaPbRKRNylkCMrO5wAFpdpUB1xJ0v2XyOb2BwcBTCcXXAGuAzsBU4CrgxnqOLwVKAYqLizOMPncqyirYadQmn8KPtzPm1wvq1NOkoSLS1uUsAbn7iHTlZjYY6A/EWz99gHlmNtTd16Q55FvA4+5eOzWAu68O3241s2nAFQ3EMZUgSVFSUhL52hPVK6vp4HDW/W+w5yc72OujbUn7lXhEpL3Iexecu8eA/eLbZrYcKEkdBZfgXIIWTy0z6+3uqy3IYKOBRTkKN+uKiouoXlHNvmuSb2cV9ixk4rqJEUUlIpJ/HRqvkj9mVmJmv0vY7gccDLyQUrXczGJADNgXuDlfMTbX8EnDKehSkFRW0KWAkXeNjCgiEZFoRP4gqrv3S3hfCVyUsL0cOCjNMSflI7ZciHetpVteW0SkPYk8AbVHg88brIQjIu1ei+qCExGR9kMJSEREIqEEJCIikVACEhGRSCgBiYhIJJSAREQkEkpAIiISCSUgERGJhBKQiIhEQglIREQioQQkIiKRUAISEZFIKAGJiEgklIBERCQSSkAiIhKJyBKQmd1gZqvMbH74Or2eeqeZ2b/NbImZXZ1Q3t/M/hGWP2RmnfMXvYiINFfULaA73P2Y8DU7daeZdQR+DYwEBgHnmtmgcPct4fGHAR8C38tX0CIi0nxRJ6DGDAWWuPsyd98GPAiMMjMDTgIeDevdD4yOKEYREdkNUS/J/UMzGwtUApe7+4cp+w8C3k3Yfg84HugJbHT3HQnlB6U7gZmVAqXh5lYzW5St4LNkX2Bd1EGkaIkxQcuMSzFlRjFlriXGNTAXH5rTBGRmc4ED0uwqA+4GbgI8/PNnwIXZjsHdpwJTw3gq3b0k2+doDsWUuZYYl2LKjGLKXEuMy8wqc/G5OU1A7j4ik3pm9lvgyTS7VgEHJ2z3CcvWA/uYWaewFRQvFxGRViLKUXC9Eza/BqTrGvsnMCAc8dYZGAM84e4OPAecHda7AJiRy3hFRCS7ohyEcKuZxcxsITAM+B8AMzvQzGYDhK2bHwJPAW8CD7v7v8LjrwJ+bGZLCO4J3ZvBOadm+WfIBsWUuZYYl2LKjGLKXEuMKycxWdCYEBERya+WPgxbRETaKCUgERGJRJtLQC15ih8zu9zM3Mz2TbNvWELM883sUzMbHe67z8zeSdh3TD5iCvfXJJz3iYTyqL6nY8zsFTP7l5ktNLNzEvbl7HtqLK5w/wVmtjh8XZBQPiS837nEzH4RPkjd3FhuCn/++Wb2tJkdmKZOXq+pTGIK6+Xtmsrwe8rrNdWE7ymf19NtZvZWGNfjZrZPmjoDU66nTWY2IdyX0e/dOty9Tb2AG4ArGqnTEVgKHAJ0BhYAg8J9DwNjwvdTgB9kKa6DCQZTrAD2baRuD2AD0CXcvg84OwffVaMxAR/XUx7J9wT8FzAgfH8gsBrYJ5ffU4Zx9QCWhX92D993D/e9BnwOMGAOMDIL8XRLeH8pMCXqayrTmPJ5TWUSU76vqQxjyvf1dArQKXx/C3BLI/U7AmuAvuH2DTTyezfdq821gDIUxRQ/dwATCR68bczZwBx335ylc9enKTHVivJ7cve33X1x+P59YC3QK0vn3u24gFOBZ9x9gwczejwDnGbB4wbd3P1VD/6lTicL35W7b0rY7NpAXHE5v6Z2I6ZaubqmMokp39dUht9Tvq+np33XzDKvEjxb2ZDhwFJ3X9Gc87bVBPTDsCn5ezPrnmZ/uil+DqIJU/w0hZmNAla5+4IMDxkDPJBSNin8me4wsz3yGNOeZlZpZq/Gu29oId+TmQ0laMEuTSjO6vfUhLjqu6YOCt+nlmcjrklm9i5wHnBdI9Vzfk01Iaa8XVNNiCleN1/XVGMx5f16SnAhQcuqIemup8Z+79bRKhOQmc01s0VpXqMIpvg5FDiGoCn9sxYQ07U0/gsi/jm9gcEE3T1x1wCHA58laJJflceY+nowLci3gTvN7NBMzp3jmOLf0x+A77r7zrB4t76nbMaVTY3EhLuXufvBQDnB83L1fU6+rqlMY8rnNdXU7ykr11S2YsqmxmIK65QBO8K46vuczsBXgUcSinfv9242+zZb2gvoByxKU/554KmE7WvClxFMAtgpXb3djGEwQZN+efjaAawEDqin/mXA1AY+7yvAk/mMKeG4+wi6ciL9noBuwDwa6JvPxvfUlLiAc4F7ErbvCct6A2/VVy9L13lxuus8n9dUU2PKxzXVlJjyeU1lElMU1xMwDniF8D5hA/VGAU83sL9fJn/37m3wHpC1sCl+3D3m7vu5ez9370fQZD7O3dfUc8i5pDRt4z9T2E8+up6fKesxmVn3eJeDBSO/TgDeiPJ7Cv++Hgemu/ujKfuy+j01JS6C1sUp4XfWneCm7lPuvhrYZGafC+MaSxamjTKzAQmbo4C3Gqie82sq05jyeU01Iaa8XlMZ/t3l+3o6jeAe51e98fuE9V5Pofp+79aVzWzeEl4ETegYsBB4Augdlh8IzE6odzrwNkFfb1lC+SEEo0yWEDQx98hyfMsJR1EBJcDvUv7nsArokHLMs+HPtAj4I7BXPmICvhCed0H45/ei/p6A7wDbgfkJr2Py8T1l8Pd3Yfh9LCHoxiGh3qLwWvsV4QwkzYzjsfAzFwIzgYOivqYyiSnf11SGMeX1mmrC310+r6clBPec4j//lLA89fdmV4LJoItSjk/7e7exl6biERGRSLS5LjgREWkdlIBERCQSSkAiIhIJJSAREYmEEpCIiERCCUgkhZn1tF2z+q6x5Fl+szLrt5ntbWbrzWyvlPInzewbDRw3wsz+ko0YRKLWKeoARFoad19PMKUIZnYDwezNtyfWCR8CNN81ZUtTz/GRmVUQPIhYHn5md4JZjs9u6FiRtkItIJEMmdlhZvaGmZUD/wIONrONCfvHmNnvwvf7m9mfLZh08zUz+1yaj3yAYBaOuG8As9z90/BJ91fM7HUz+1vK0/Px891s4Xos4fZbZtYnfH9BeN75ZvYbM+tgZp3M7A8WrCWzyMwuzc43I7J71AISaZrDgbHuXmlmDf37+QVwq7u/amb9gCeBz6TUmQ3cY2bdPZhyfwwQb2m9CZzo7jvCaVJuBs4hA2b2GYLpUL4QHj81/OylBLM4DA7r1Vl0TCSflIBEmmapu1dmUG8EMNB2LVbZ3cwK3X1LvMDdt5rZLODrZvYkcCQwN9y9DzB9N2eKHkEwe3NleP5CgmlWngpj+gUwC3h6Nz5bJGuUgESa5pOE9zsJZnGO2zPhvQFDPVjwsCEPAFcSJInHfdd6OJMIJp/8jZkdBvw1zbE7SO5Gj5/fgN+7+09SDzCzo4CRwH8TdPmVNhKfSM7oHpDIbgoHIHxoZgPMrANBt1fcXIJf8gCY2TH1fEwFQctnPMkzDBcRTCIKwTT56SwHhoSfP5Rg2fD4ub8VzjYdH9VXbGa9CAZOPEKwvtFxGfyYIjmjBCTSPFcRdG39neSVKv8bOMGCFSLfAC5Od7C71wB/JliP5uWEXbcAt5nZPJJbWYkeAfY3s0UELZll4WfGgJ8Cc81sIUFX2/4ECepFM5sPTCNYaE8kMpoNW0REIqEWkIiIREIJSEREIqEEJCIikVACEhGRSCgBiYhIJJSAREQkEkpAIiISif8PsOc9JyYHPA4AAAAASUVORK5CYII=\n",
      "text/plain": [
       "<Figure size 432x288 with 1 Axes>"
      ]
     },
     "metadata": {
      "needs_background": "light"
     },
     "output_type": "display_data"
    }
   ],
   "source": [
    "# print loss value\n",
    "\n",
    "print('training loss = ',loss.item())\n",
    "\n",
    "# plot the training data\n",
    "\n",
    "fig = plt.figure()\n",
    "ax = fig.add_subplot(111)\n",
    "ax.plot(y_data,y_data)\n",
    "ax.scatter(y_data,prediction.data.numpy(),c='purple',label='Training Points')\n",
    "ax.set_ylim([-5,-2.75])\n",
    "ax.set_xlim([-5,-2.75])\n",
    "ax.set_xlabel('True Values')\n",
    "ax.set_ylabel('Predicted Values')\n",
    "fig.show()"
   ]
  },
  {
   "cell_type": "markdown",
   "metadata": {},
   "source": [
    "# 75% Training / 25% Validating\n",
    "One proton location from each T Site is removed from the training data, and added to the validating data.\\\n",
    "This data was preseparated in processing_raw_data_into_features.ipynb."
   ]
  },
  {
   "cell_type": "code",
   "execution_count": 99,
   "metadata": {},
   "outputs": [],
   "source": [
    "# Read x data (ring feature list)\n",
    "\n",
    "x_train = np.loadtxt('one_per_T/x_train.csv', delimiter = ',', dtype = float)\n",
    "x_validate = np.loadtxt('one_per_T/x_validate.csv', delimiter = ',', dtype = float)\n",
    "\n",
    "# Read y data (deprotonation energies)\n",
    "\n",
    "y_train = np.loadtxt('one_per_T/y_train.csv',delimiter = ',', dtype = float, ndmin = 2)\n",
    "y_validate = np.loadtxt('one_per_T/y_validate.csv',delimiter = ',', dtype = float, ndmin = 2)"
   ]
  },
  {
   "cell_type": "code",
   "execution_count": 100,
   "metadata": {},
   "outputs": [],
   "source": [
    "# Convert to torch tensors\n",
    "\n",
    "x_train = torch.tensor(x_train)\n",
    "x_train = Variable(x_train)\n",
    "\n",
    "x_validate = torch.tensor(x_validate)\n",
    "x_validate = Variable(x_validate)\n",
    "\n",
    "y_train = torch.tensor(y_train)\n",
    "y_train = Variable(y_train)\n",
    "\n",
    "y_validate = torch.tensor(y_validate)\n",
    "y_validate = Variable(y_validate)"
   ]
  },
  {
   "cell_type": "code",
   "execution_count": 101,
   "metadata": {},
   "outputs": [],
   "source": [
    "# Set network seed for reproducability\n",
    "\n",
    "torch.manual_seed(1);\n",
    "\n",
    "# Define the network class\n",
    "\n",
    "class Net(torch.nn.Module):\n",
    "    def __init__(self, n_feature, n_hidden, n_output):\n",
    "        super(Net, self).__init__()\n",
    "        self.hidden = torch.nn.Linear(n_feature, n_hidden)\n",
    "        self.predict = torch.nn.Linear(n_hidden, n_output)\n",
    "        \n",
    "    def forward(self,x):\n",
    "        x = F.softsign(self.hidden(x))\n",
    "        x = self.predict(x)\n",
    "        return x\n",
    "    \n",
    "# Define our network\n",
    "\n",
    "net = Net(n_feature = len(x_train[0]), n_hidden = 60, n_output=1)\n",
    "\n",
    "# Define our optimizer\n",
    "\n",
    "optimizer = torch.optim.Rprop(net.parameters(), lr = .0002)\n",
    "\n",
    "# Define our loss function (mean squared error)\n",
    "loss_func = torch.nn.MSELoss()"
   ]
  },
  {
   "cell_type": "code",
   "execution_count": 102,
   "metadata": {},
   "outputs": [],
   "source": [
    "# Train the network\n",
    "\n",
    "for t in range(1000):\n",
    "    prediction = net(x_train.float())\n",
    "\n",
    "    loss = loss_func(prediction,y_train.float())\n",
    "    optimizer.zero_grad()\n",
    "    loss.backward()\n",
    "    optimizer.step()"
   ]
  },
  {
   "cell_type": "code",
   "execution_count": 103,
   "metadata": {},
   "outputs": [
    {
     "name": "stdout",
     "output_type": "stream",
     "text": [
      "training loss =  0.00011252179683651775\n",
      "validating loss =  0.01075117476284504\n"
     ]
    },
    {
     "data": {
      "image/png": "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\n",
      "text/plain": [
       "<Figure size 432x288 with 1 Axes>"
      ]
     },
     "metadata": {
      "needs_background": "light"
     },
     "output_type": "display_data"
    }
   ],
   "source": [
    "# print loss value\n",
    "\n",
    "print('training loss = ',loss.item())\n",
    "\n",
    "# plot the training data\n",
    "\n",
    "fig = plt.figure()\n",
    "ax = fig.add_subplot(111)\n",
    "ax.plot(y_data,y_data)\n",
    "ax.scatter(y_train,prediction.data.numpy(),c='purple',label='Training Points')\n",
    "ax.set_ylim([-5,-2.75])\n",
    "ax.set_xlim([-5,-2.75])\n",
    "ax.set_xlabel('True Values')\n",
    "ax.set_ylabel('Predicted Values')\n",
    "\n",
    "# Predict the validating data\n",
    "\n",
    "prediction = net(x_validate.float())\n",
    "loss = loss_func(prediction,y_validate.float())\n",
    "\n",
    "# print loss values and plot validating data\n",
    "print('validating loss = ', loss.item())\n",
    "ax.scatter(y_validate,prediction.data.numpy(),c='cyan',label='Validation Points')\n",
    "#ax.axis('square')\n",
    "#ax.set_aspect('equal',adjustable='box')\n",
    "ax.legend(loc='best')\n",
    "fig.show()"
   ]
  },
  {
   "cell_type": "markdown",
   "metadata": {},
   "source": [
    "# Random 70% Training / 30% Validating\n",
    "Fully random splitting of the entire data set. "
   ]
  },
  {
   "cell_type": "code",
   "execution_count": 104,
   "metadata": {},
   "outputs": [],
   "source": [
    "# Read x data (ring feature list)\n",
    "\n",
    "x_train = np.loadtxt('random_30/x_train.csv', delimiter = ',', dtype = float)\n",
    "x_validate = np.loadtxt('random_30/x_validate.csv', delimiter = ',', dtype = float)\n",
    "\n",
    "# Read y data (deprotonation energies)\n",
    "\n",
    "y_train = np.loadtxt('random_30/y_train.csv',delimiter = ',', dtype = float, ndmin = 2)\n",
    "y_validate = np.loadtxt('random_30/y_validate.csv',delimiter = ',', dtype = float, ndmin = 2)"
   ]
  },
  {
   "cell_type": "code",
   "execution_count": 105,
   "metadata": {},
   "outputs": [],
   "source": [
    "# Convert to torch tensors\n",
    "\n",
    "x_train = torch.tensor(x_train)\n",
    "x_train = Variable(x_train)\n",
    "\n",
    "x_validate = torch.tensor(x_validate)\n",
    "x_validate = Variable(x_validate)\n",
    "\n",
    "y_train = torch.tensor(y_train)\n",
    "y_train = Variable(y_train)\n",
    "\n",
    "y_validate = torch.tensor(y_validate)\n",
    "y_validate = Variable(y_validate)"
   ]
  },
  {
   "cell_type": "code",
   "execution_count": 106,
   "metadata": {},
   "outputs": [],
   "source": [
    "# Set network seed for reproducability\n",
    "\n",
    "torch.manual_seed(1);\n",
    "\n",
    "# Define the network class\n",
    "\n",
    "class Net(torch.nn.Module):\n",
    "    def __init__(self, n_feature, n_hidden, n_output):\n",
    "        super(Net, self).__init__()\n",
    "        self.hidden = torch.nn.Linear(n_feature, n_hidden)\n",
    "        self.predict = torch.nn.Linear(n_hidden, n_output)\n",
    "        \n",
    "    def forward(self,x):\n",
    "        x = F.softsign(self.hidden(x))\n",
    "        x = self.predict(x)\n",
    "        return x\n",
    "    \n",
    "# Define our network\n",
    "\n",
    "net = Net(n_feature = len(x_train[0]), n_hidden = 60, n_output=1)\n",
    "\n",
    "# Define our optimizer\n",
    "\n",
    "optimizer = torch.optim.Rprop(net.parameters(), lr = .0002)\n",
    "\n",
    "# Define our loss function (mean squared error)\n",
    "loss_func = torch.nn.MSELoss()"
   ]
  },
  {
   "cell_type": "code",
   "execution_count": 107,
   "metadata": {},
   "outputs": [],
   "source": [
    "# Train the network\n",
    "\n",
    "for t in range(1000):\n",
    "    prediction = net(x_train.float())\n",
    "\n",
    "    loss = loss_func(prediction,y_train.float())\n",
    "    optimizer.zero_grad()\n",
    "    loss.backward()\n",
    "    optimizer.step()"
   ]
  },
  {
   "cell_type": "code",
   "execution_count": 108,
   "metadata": {},
   "outputs": [
    {
     "name": "stdout",
     "output_type": "stream",
     "text": [
      "training loss =  7.670768536627293e-05\n",
      "validating loss =  0.025752827525138855\n"
     ]
    },
    {
     "data": {
      "image/png": "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{
 "cells": [
  {
   "cell_type": "markdown",
   "metadata": {},
   "source": [
    "# Predicting zeolite deprotonation energies via neural networks\n",
    "This notebook gives examples on how to use the size of the rings associated with oxygen sites, tetrahedral sites, and entire zeolite frameworks to predict the deprotonation energy (DPE) of each proton location in these  frameworks.\\\n",
    "Ring data was found using Zeolite Simulation Environment (zse), github.com/jtcrum/zse \\\n",
    "The DPE data comes from A. Jones and E. Iglesia, ACS Catal. 2015, 5, 5741−5755"
   ]
  },
  {
   "cell_type": "code",
   "execution_count": 78,
   "metadata": {},
   "outputs": [],
   "source": [
    "import numpy as np\n",
    "import torch\n",
    "from torch.autograd import Variable\n",
    "import torch.nn.functional as F\n",
    "import torch.utils.data as Data\n",
    "import matplotlib.pyplot as plt\n",
    "%matplotlib inline"
   ]
  },
  {
   "cell_type": "markdown",
   "metadata": {},
   "source": [
    "# Reproducibility Information\n",
    "Ring data was found using ZSE commit: 5a52d2\\\n",
    "Function to get O rings: zse.rings.get_orings_new()\\\n",
    "Function to get T-site rings: zse.rings.get_trings()\\\n",
    "Function to get framework rings: zse.rings.get_unique_rings()"
   ]
  },
  {
   "cell_type": "markdown",
   "metadata": {},
   "source": [
    "# Test Full Data Set"
   ]
  },
  {
   "cell_type": "code",
   "execution_count": 80,
   "metadata": {},
   "outputs": [],
   "source": [
    "# read x data (ring feature list)\n",
    "\n",
    "x_data = np.loadtxt('full_data/x_values.csv', delimiter = ',', dtype = float)\n",
    "\n",
    "# read y data (deprotonation energies)\n",
    "\n",
    "y_data = np.loadtxt('full_data/y_values.csv',delimiter = ',', dtype = float, ndmin = 2)"
   ]
  },
  {
   "cell_type": "code",
   "execution_count": 81,
   "metadata": {},
   "outputs": [],
   "source": [
    "# convert data to torch tensors\n",
    "\n",
    "x_data = torch.tensor(x_data)\n",
    "x_data = Variable(x_data)\n",
    "\n",
    "y_data = torch.tensor(y_data)\n",
    "y_data = Variable(y_data)\n"
   ]
  },
  {
   "cell_type": "code",
   "execution_count": 82,
   "metadata": {},
   "outputs": [],
   "source": [
    "# Set network seed for reproducability\n",
    "\n",
    "torch.manual_seed(1);\n",
    "\n",
    "# Define the network class\n",
    "\n",
    "class Net(torch.nn.Module):\n",
    "    def __init__(self, n_feature, n_hidden, n_output):\n",
    "        super(Net, self).__init__()\n",
    "        self.hidden = torch.nn.Linear(n_feature, n_hidden)\n",
    "        self.predict = torch.nn.Linear(n_hidden, n_output)\n",
    "        \n",
    "    def forward(self,x):\n",
    "        x = F.softsign(self.hidden(x))\n",
    "        x = self.predict(x)\n",
    "        return x\n",
    "    \n",
    "# Define our network\n",
    "\n",
    "net = Net(n_feature = len(x_data[0]), n_hidden = 60, n_output=1)\n",
    "\n",
    "# Define our optimizer\n",
    "\n",
    "optimizer = torch.optim.Rprop(net.parameters(), lr = .0002)\n",
    "\n",
    "# Define our loss function (mean squared error)\n",
    "loss_func = torch.nn.MSELoss()"
   ]
  },
  {
   "cell_type": "code",
   "execution_count": 83,
   "metadata": {},
   "outputs": [],
   "source": [
    "# Train the network\n",
    "\n",
    "for t in range(1000):\n",
    "    prediction = net(x_data.float())\n",
    "\n",
    "    loss = loss_func(prediction,y_data.float())\n",
    "    optimizer.zero_grad()\n",
    "    loss.backward()\n",
    "    optimizer.step()\n",
    "    "
   ]
  },
  {
   "cell_type": "code",
   "execution_count": 85,
   "metadata": {},
   "outputs": [
    {
     "name": "stdout",
     "output_type": "stream",
     "text": [
      "training loss =  0.00015400975826196373\n"
     ]
    },
    {
     "data": {
      "image/png": "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